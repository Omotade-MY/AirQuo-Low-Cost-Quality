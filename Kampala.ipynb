{
 "cells": [
  {
   "cell_type": "code",
   "execution_count": 1,
   "metadata": {},
   "outputs": [],
   "source": [
    "import pandas as pd\n",
    "import numpy as np\n",
    "import seaborn as sns\n",
    "import matplotlib.pyplot as plt\n",
    "%matplotlib inline\n",
    "import warnings\n",
    "warnings.filterwarnings('ignore')"
   ]
  },
  {
   "cell_type": "code",
   "execution_count": 4,
   "metadata": {},
   "outputs": [],
   "source": [
    "from sklearn.metrics import r2_score, mean_squared_error \n",
    "from sklearn.tree import DecisionTreeRegressor\n",
    "from sklearn.ensemble import GradientBoostingRegressor, RandomForestRegressor, AdaBoostRegressor, ExtraTreesRegressor\n",
    "import xgboost as xgb\n",
    "import lightgbm\n",
    "import catboost\n",
    "from sklearn.model_selection import StratifiedKFold, train_test_split, GridSearchCV\n",
    "from sklearn.feature_selection import SelectKBest, RFECV\n",
    "from sklearn.preprocessing import MinMaxScaler, PolynomialFeatures, StandardScaler\n",
    "from sklearn.impute import SimpleImputer\n",
    "from sklearn.pipeline import Pipeline, make_union, make_pipeline\n",
    "from sklearn.cluster import KMeans"
   ]
  },
  {
   "cell_type": "code",
   "execution_count": 5,
   "metadata": {},
   "outputs": [],
   "source": [
    "from math import sqrt\n",
    "def rmse(y_true,y_preds):\n",
    "    return sqrt(mean_squared_error(y_true,y_preds))"
   ]
  },
  {
   "cell_type": "code",
   "execution_count": 6,
   "metadata": {},
   "outputs": [],
   "source": [
    "Train = pd.read_csv('Train.csv')\n",
    "Test = pd.read_csv('Test.csv')\n",
    "ss = pd.read_csv('SampleSubmission.csv')"
   ]
  },
  {
   "cell_type": "code",
   "execution_count": 7,
   "metadata": {},
   "outputs": [
    {
     "data": {
      "text/html": [
       "<div>\n",
       "<style scoped>\n",
       "    .dataframe tbody tr th:only-of-type {\n",
       "        vertical-align: middle;\n",
       "    }\n",
       "\n",
       "    .dataframe tbody tr th {\n",
       "        vertical-align: top;\n",
       "    }\n",
       "\n",
       "    .dataframe thead th {\n",
       "        text-align: right;\n",
       "    }\n",
       "</style>\n",
       "<table border=\"1\" class=\"dataframe\">\n",
       "  <thead>\n",
       "    <tr style=\"text-align: right;\">\n",
       "      <th></th>\n",
       "      <th>ID</th>\n",
       "      <th>created_at</th>\n",
       "      <th>site</th>\n",
       "      <th>pm2_5</th>\n",
       "      <th>pm10</th>\n",
       "      <th>s2_pm2_5</th>\n",
       "      <th>s2_pm10</th>\n",
       "      <th>humidity</th>\n",
       "      <th>temp</th>\n",
       "      <th>lat</th>\n",
       "      <th>long</th>\n",
       "      <th>altitude</th>\n",
       "      <th>greenness</th>\n",
       "      <th>landform_90m</th>\n",
       "      <th>landform_270m</th>\n",
       "      <th>population</th>\n",
       "      <th>dist_major_road</th>\n",
       "      <th>ref_pm2_5</th>\n",
       "    </tr>\n",
       "  </thead>\n",
       "  <tbody>\n",
       "    <tr>\n",
       "      <th>0</th>\n",
       "      <td>ID_0038MG0B</td>\n",
       "      <td>2020-04-23 17:00:00+03:00</td>\n",
       "      <td>USEmbassy</td>\n",
       "      <td>6.819048</td>\n",
       "      <td>7.313810</td>\n",
       "      <td>6.794048</td>\n",
       "      <td>7.838333</td>\n",
       "      <td>0.807417</td>\n",
       "      <td>22.383333</td>\n",
       "      <td>0.299255</td>\n",
       "      <td>32.592686</td>\n",
       "      <td>1199</td>\n",
       "      <td>4374</td>\n",
       "      <td>21</td>\n",
       "      <td>14</td>\n",
       "      <td>6834</td>\n",
       "      <td>130</td>\n",
       "      <td>25.0</td>\n",
       "    </tr>\n",
       "    <tr>\n",
       "      <th>1</th>\n",
       "      <td>ID_008ASVDD</td>\n",
       "      <td>2020-02-23 19:00:00+03:00</td>\n",
       "      <td>USEmbassy</td>\n",
       "      <td>57.456047</td>\n",
       "      <td>67.883488</td>\n",
       "      <td>55.643488</td>\n",
       "      <td>70.646977</td>\n",
       "      <td>0.712417</td>\n",
       "      <td>25.350000</td>\n",
       "      <td>0.299255</td>\n",
       "      <td>32.592686</td>\n",
       "      <td>1199</td>\n",
       "      <td>4374</td>\n",
       "      <td>21</td>\n",
       "      <td>14</td>\n",
       "      <td>6834</td>\n",
       "      <td>130</td>\n",
       "      <td>68.0</td>\n",
       "    </tr>\n",
       "    <tr>\n",
       "      <th>2</th>\n",
       "      <td>ID_009ACJQ9</td>\n",
       "      <td>2021-01-23 04:00:00+03:00</td>\n",
       "      <td>Nakawa</td>\n",
       "      <td>170.009773</td>\n",
       "      <td>191.153636</td>\n",
       "      <td>165.308636</td>\n",
       "      <td>191.471591</td>\n",
       "      <td>0.907833</td>\n",
       "      <td>20.616667</td>\n",
       "      <td>0.331740</td>\n",
       "      <td>32.609510</td>\n",
       "      <td>1191</td>\n",
       "      <td>5865</td>\n",
       "      <td>31</td>\n",
       "      <td>-11</td>\n",
       "      <td>4780</td>\n",
       "      <td>500</td>\n",
       "      <td>149.7</td>\n",
       "    </tr>\n",
       "    <tr>\n",
       "      <th>3</th>\n",
       "      <td>ID_00IGMAQ2</td>\n",
       "      <td>2019-12-04 09:00:00+03:00</td>\n",
       "      <td>USEmbassy</td>\n",
       "      <td>49.732821</td>\n",
       "      <td>61.512564</td>\n",
       "      <td>0.000000</td>\n",
       "      <td>0.000000</td>\n",
       "      <td>0.949667</td>\n",
       "      <td>21.216667</td>\n",
       "      <td>0.299255</td>\n",
       "      <td>32.592686</td>\n",
       "      <td>1199</td>\n",
       "      <td>4374</td>\n",
       "      <td>21</td>\n",
       "      <td>14</td>\n",
       "      <td>6834</td>\n",
       "      <td>130</td>\n",
       "      <td>54.0</td>\n",
       "    </tr>\n",
       "    <tr>\n",
       "      <th>4</th>\n",
       "      <td>ID_00P76VAQ</td>\n",
       "      <td>2019-10-01 01:00:00+03:00</td>\n",
       "      <td>USEmbassy</td>\n",
       "      <td>41.630455</td>\n",
       "      <td>51.044545</td>\n",
       "      <td>41.725000</td>\n",
       "      <td>51.141364</td>\n",
       "      <td>0.913833</td>\n",
       "      <td>18.908333</td>\n",
       "      <td>0.299255</td>\n",
       "      <td>32.592686</td>\n",
       "      <td>1199</td>\n",
       "      <td>4374</td>\n",
       "      <td>21</td>\n",
       "      <td>14</td>\n",
       "      <td>6834</td>\n",
       "      <td>130</td>\n",
       "      <td>39.0</td>\n",
       "    </tr>\n",
       "  </tbody>\n",
       "</table>\n",
       "</div>"
      ],
      "text/plain": [
       "            ID                 created_at       site       pm2_5        pm10  \\\n",
       "0  ID_0038MG0B  2020-04-23 17:00:00+03:00  USEmbassy    6.819048    7.313810   \n",
       "1  ID_008ASVDD  2020-02-23 19:00:00+03:00  USEmbassy   57.456047   67.883488   \n",
       "2  ID_009ACJQ9  2021-01-23 04:00:00+03:00     Nakawa  170.009773  191.153636   \n",
       "3  ID_00IGMAQ2  2019-12-04 09:00:00+03:00  USEmbassy   49.732821   61.512564   \n",
       "4  ID_00P76VAQ  2019-10-01 01:00:00+03:00  USEmbassy   41.630455   51.044545   \n",
       "\n",
       "     s2_pm2_5     s2_pm10  humidity       temp       lat       long  altitude  \\\n",
       "0    6.794048    7.838333  0.807417  22.383333  0.299255  32.592686      1199   \n",
       "1   55.643488   70.646977  0.712417  25.350000  0.299255  32.592686      1199   \n",
       "2  165.308636  191.471591  0.907833  20.616667  0.331740  32.609510      1191   \n",
       "3    0.000000    0.000000  0.949667  21.216667  0.299255  32.592686      1199   \n",
       "4   41.725000   51.141364  0.913833  18.908333  0.299255  32.592686      1199   \n",
       "\n",
       "   greenness  landform_90m  landform_270m  population  dist_major_road  \\\n",
       "0       4374            21             14        6834              130   \n",
       "1       4374            21             14        6834              130   \n",
       "2       5865            31            -11        4780              500   \n",
       "3       4374            21             14        6834              130   \n",
       "4       4374            21             14        6834              130   \n",
       "\n",
       "   ref_pm2_5  \n",
       "0       25.0  \n",
       "1       68.0  \n",
       "2      149.7  \n",
       "3       54.0  \n",
       "4       39.0  "
      ]
     },
     "execution_count": 7,
     "metadata": {},
     "output_type": "execute_result"
    }
   ],
   "source": [
    "Train.head()"
   ]
  },
  {
   "cell_type": "code",
   "execution_count": 31,
   "metadata": {},
   "outputs": [],
   "source": [
    "group = Train.groupby('site')"
   ]
  },
  {
   "cell_type": "code",
   "execution_count": 35,
   "metadata": {},
   "outputs": [
    {
     "data": {
      "text/plain": [
       "dict_keys(['Makerere', 'Nakawa', 'USEmbassy'])"
      ]
     },
     "execution_count": 35,
     "metadata": {},
     "output_type": "execute_result"
    }
   ],
   "source": [
    "group.groups.keys()"
   ]
  },
  {
   "cell_type": "code",
   "execution_count": null,
   "metadata": {},
   "outputs": [],
   "source": []
  },
  {
   "cell_type": "code",
   "execution_count": 54,
   "metadata": {},
   "outputs": [],
   "source": [
    "US_mean = int(group.get_group('USEmbassy')['ref_pm2_5'].mean())\n",
    "MK_mean = int(group.get_group('Makerere')['ref_pm2_5'].mean())\n",
    "NK_mean = int(group.get_group('Nakawa')['ref_pm2_5'].mean())"
   ]
  },
  {
   "cell_type": "code",
   "execution_count": 55,
   "metadata": {},
   "outputs": [
    {
     "name": "stdout",
     "output_type": "stream",
     "text": [
      "US Mean: 60\n",
      "Makerere Mean: 39\n",
      "Nakawa Mean: 50\n"
     ]
    }
   ],
   "source": [
    "for _,__ in zip([US_mean,MK_mean,NK_mean],['US Mean:', 'Makerere Mean:','Nakawa Mean:']):\n",
    "    print(__,_)"
   ]
  },
  {
   "cell_type": "code",
   "execution_count": 65,
   "metadata": {},
   "outputs": [],
   "source": [
    "US_rel_avg = round(group.get_group('USEmbassy')['ref_pm2_5'].sum()/Train['ref_pm2_5'].sum(),1)\n",
    "MK_rel_avg = round(group.get_group('Makerere')['ref_pm2_5'].sum()/Train['ref_pm2_5'].sum(),1)\n",
    "NK_rel_avg = round(group.get_group('Nakawa')['ref_pm2_5'].sum()/Train['ref_pm2_5'].sum(),1)"
   ]
  },
  {
   "cell_type": "code",
   "execution_count": 93,
   "metadata": {},
   "outputs": [],
   "source": [
    "mag_vals_avg = {'USEmbassy':US_mean,'Makerere':MK_mean,'Nakawa':NK_mean}"
   ]
  },
  {
   "cell_type": "code",
   "execution_count": 100,
   "metadata": {},
   "outputs": [],
   "source": [
    "data['ref_vals'] = all_data['site'].map(mag_vals_avg)\n",
    "#apply(lambda val: mag_vals.avgb )"
   ]
  },
  {
   "cell_type": "code",
   "execution_count": 95,
   "metadata": {},
   "outputs": [
    {
     "data": {
      "text/html": [
       "<div>\n",
       "<style scoped>\n",
       "    .dataframe tbody tr th:only-of-type {\n",
       "        vertical-align: middle;\n",
       "    }\n",
       "\n",
       "    .dataframe tbody tr th {\n",
       "        vertical-align: top;\n",
       "    }\n",
       "\n",
       "    .dataframe thead th {\n",
       "        text-align: right;\n",
       "    }\n",
       "</style>\n",
       "<table border=\"1\" class=\"dataframe\">\n",
       "  <thead>\n",
       "    <tr style=\"text-align: right;\">\n",
       "      <th></th>\n",
       "      <th>ID</th>\n",
       "      <th>site</th>\n",
       "      <th>pm2_5</th>\n",
       "      <th>pm10</th>\n",
       "      <th>s2_pm2_5</th>\n",
       "      <th>s2_pm10</th>\n",
       "      <th>humidity</th>\n",
       "      <th>temp</th>\n",
       "      <th>lat</th>\n",
       "      <th>long</th>\n",
       "      <th>...</th>\n",
       "      <th>landform_270m</th>\n",
       "      <th>population</th>\n",
       "      <th>dist_major_road</th>\n",
       "      <th>created_at_year</th>\n",
       "      <th>created_at_day</th>\n",
       "      <th>created_at_date</th>\n",
       "      <th>created_at_month</th>\n",
       "      <th>created_at_quarter</th>\n",
       "      <th>created_at_hour</th>\n",
       "      <th>ref_vals</th>\n",
       "    </tr>\n",
       "  </thead>\n",
       "  <tbody>\n",
       "    <tr>\n",
       "      <th>0</th>\n",
       "      <td>ID_0038MG0B</td>\n",
       "      <td>USEmbassy</td>\n",
       "      <td>6.819048</td>\n",
       "      <td>7.313810</td>\n",
       "      <td>6.794048</td>\n",
       "      <td>7.838333</td>\n",
       "      <td>0.807417</td>\n",
       "      <td>22.383333</td>\n",
       "      <td>0.299255</td>\n",
       "      <td>32.592686</td>\n",
       "      <td>...</td>\n",
       "      <td>14</td>\n",
       "      <td>6834</td>\n",
       "      <td>130</td>\n",
       "      <td>2020</td>\n",
       "      <td>Thursday</td>\n",
       "      <td>23</td>\n",
       "      <td>4</td>\n",
       "      <td>2</td>\n",
       "      <td>17</td>\n",
       "      <td>60</td>\n",
       "    </tr>\n",
       "    <tr>\n",
       "      <th>1</th>\n",
       "      <td>ID_008ASVDD</td>\n",
       "      <td>USEmbassy</td>\n",
       "      <td>57.456047</td>\n",
       "      <td>67.883488</td>\n",
       "      <td>55.643488</td>\n",
       "      <td>70.646977</td>\n",
       "      <td>0.712417</td>\n",
       "      <td>25.350000</td>\n",
       "      <td>0.299255</td>\n",
       "      <td>32.592686</td>\n",
       "      <td>...</td>\n",
       "      <td>14</td>\n",
       "      <td>6834</td>\n",
       "      <td>130</td>\n",
       "      <td>2020</td>\n",
       "      <td>Sunday</td>\n",
       "      <td>23</td>\n",
       "      <td>2</td>\n",
       "      <td>1</td>\n",
       "      <td>19</td>\n",
       "      <td>60</td>\n",
       "    </tr>\n",
       "    <tr>\n",
       "      <th>2</th>\n",
       "      <td>ID_009ACJQ9</td>\n",
       "      <td>Nakawa</td>\n",
       "      <td>170.009773</td>\n",
       "      <td>191.153636</td>\n",
       "      <td>165.308636</td>\n",
       "      <td>191.471591</td>\n",
       "      <td>0.907833</td>\n",
       "      <td>20.616667</td>\n",
       "      <td>0.331740</td>\n",
       "      <td>32.609510</td>\n",
       "      <td>...</td>\n",
       "      <td>-11</td>\n",
       "      <td>4780</td>\n",
       "      <td>500</td>\n",
       "      <td>2021</td>\n",
       "      <td>Saturday</td>\n",
       "      <td>23</td>\n",
       "      <td>1</td>\n",
       "      <td>1</td>\n",
       "      <td>4</td>\n",
       "      <td>50</td>\n",
       "    </tr>\n",
       "    <tr>\n",
       "      <th>3</th>\n",
       "      <td>ID_00IGMAQ2</td>\n",
       "      <td>USEmbassy</td>\n",
       "      <td>49.732821</td>\n",
       "      <td>61.512564</td>\n",
       "      <td>0.000000</td>\n",
       "      <td>0.000000</td>\n",
       "      <td>0.949667</td>\n",
       "      <td>21.216667</td>\n",
       "      <td>0.299255</td>\n",
       "      <td>32.592686</td>\n",
       "      <td>...</td>\n",
       "      <td>14</td>\n",
       "      <td>6834</td>\n",
       "      <td>130</td>\n",
       "      <td>2019</td>\n",
       "      <td>Wednesday</td>\n",
       "      <td>4</td>\n",
       "      <td>12</td>\n",
       "      <td>4</td>\n",
       "      <td>9</td>\n",
       "      <td>60</td>\n",
       "    </tr>\n",
       "    <tr>\n",
       "      <th>4</th>\n",
       "      <td>ID_00P76VAQ</td>\n",
       "      <td>USEmbassy</td>\n",
       "      <td>41.630455</td>\n",
       "      <td>51.044545</td>\n",
       "      <td>41.725000</td>\n",
       "      <td>51.141364</td>\n",
       "      <td>0.913833</td>\n",
       "      <td>18.908333</td>\n",
       "      <td>0.299255</td>\n",
       "      <td>32.592686</td>\n",
       "      <td>...</td>\n",
       "      <td>14</td>\n",
       "      <td>6834</td>\n",
       "      <td>130</td>\n",
       "      <td>2019</td>\n",
       "      <td>Tuesday</td>\n",
       "      <td>1</td>\n",
       "      <td>10</td>\n",
       "      <td>4</td>\n",
       "      <td>1</td>\n",
       "      <td>60</td>\n",
       "    </tr>\n",
       "    <tr>\n",
       "      <th>...</th>\n",
       "      <td>...</td>\n",
       "      <td>...</td>\n",
       "      <td>...</td>\n",
       "      <td>...</td>\n",
       "      <td>...</td>\n",
       "      <td>...</td>\n",
       "      <td>...</td>\n",
       "      <td>...</td>\n",
       "      <td>...</td>\n",
       "      <td>...</td>\n",
       "      <td>...</td>\n",
       "      <td>...</td>\n",
       "      <td>...</td>\n",
       "      <td>...</td>\n",
       "      <td>...</td>\n",
       "      <td>...</td>\n",
       "      <td>...</td>\n",
       "      <td>...</td>\n",
       "      <td>...</td>\n",
       "      <td>...</td>\n",
       "      <td>...</td>\n",
       "    </tr>\n",
       "    <tr>\n",
       "      <th>2728</th>\n",
       "      <td>ID_ZW5RSNUS</td>\n",
       "      <td>Makerere</td>\n",
       "      <td>43.508889</td>\n",
       "      <td>53.786667</td>\n",
       "      <td>42.747778</td>\n",
       "      <td>53.457778</td>\n",
       "      <td>0.924833</td>\n",
       "      <td>22.358333</td>\n",
       "      <td>0.333501</td>\n",
       "      <td>32.568561</td>\n",
       "      <td>...</td>\n",
       "      <td>28</td>\n",
       "      <td>8518</td>\n",
       "      <td>475</td>\n",
       "      <td>2021</td>\n",
       "      <td>Thursday</td>\n",
       "      <td>18</td>\n",
       "      <td>2</td>\n",
       "      <td>1</td>\n",
       "      <td>3</td>\n",
       "      <td>39</td>\n",
       "    </tr>\n",
       "    <tr>\n",
       "      <th>2729</th>\n",
       "      <td>ID_ZWCI817N</td>\n",
       "      <td>Nakawa</td>\n",
       "      <td>101.348049</td>\n",
       "      <td>114.076098</td>\n",
       "      <td>99.469512</td>\n",
       "      <td>116.441220</td>\n",
       "      <td>0.936333</td>\n",
       "      <td>20.500000</td>\n",
       "      <td>0.331740</td>\n",
       "      <td>32.609510</td>\n",
       "      <td>...</td>\n",
       "      <td>-11</td>\n",
       "      <td>4780</td>\n",
       "      <td>500</td>\n",
       "      <td>2021</td>\n",
       "      <td>Thursday</td>\n",
       "      <td>21</td>\n",
       "      <td>1</td>\n",
       "      <td>1</td>\n",
       "      <td>23</td>\n",
       "      <td>50</td>\n",
       "    </tr>\n",
       "    <tr>\n",
       "      <th>2730</th>\n",
       "      <td>ID_ZX5858FJ</td>\n",
       "      <td>Makerere</td>\n",
       "      <td>47.248182</td>\n",
       "      <td>59.862727</td>\n",
       "      <td>46.526364</td>\n",
       "      <td>59.971818</td>\n",
       "      <td>0.857917</td>\n",
       "      <td>20.966667</td>\n",
       "      <td>0.333501</td>\n",
       "      <td>32.568561</td>\n",
       "      <td>...</td>\n",
       "      <td>28</td>\n",
       "      <td>8518</td>\n",
       "      <td>475</td>\n",
       "      <td>2020</td>\n",
       "      <td>Saturday</td>\n",
       "      <td>12</td>\n",
       "      <td>12</td>\n",
       "      <td>4</td>\n",
       "      <td>21</td>\n",
       "      <td>39</td>\n",
       "    </tr>\n",
       "    <tr>\n",
       "      <th>2731</th>\n",
       "      <td>ID_ZY4XOL2H</td>\n",
       "      <td>USEmbassy</td>\n",
       "      <td>217.070465</td>\n",
       "      <td>264.880698</td>\n",
       "      <td>220.803488</td>\n",
       "      <td>249.663953</td>\n",
       "      <td>0.716833</td>\n",
       "      <td>22.158333</td>\n",
       "      <td>0.299255</td>\n",
       "      <td>32.592686</td>\n",
       "      <td>...</td>\n",
       "      <td>14</td>\n",
       "      <td>6834</td>\n",
       "      <td>130</td>\n",
       "      <td>2021</td>\n",
       "      <td>Monday</td>\n",
       "      <td>8</td>\n",
       "      <td>2</td>\n",
       "      <td>1</td>\n",
       "      <td>2</td>\n",
       "      <td>60</td>\n",
       "    </tr>\n",
       "    <tr>\n",
       "      <th>2732</th>\n",
       "      <td>ID_ZYTEVEBR</td>\n",
       "      <td>USEmbassy</td>\n",
       "      <td>103.224773</td>\n",
       "      <td>109.998409</td>\n",
       "      <td>104.679091</td>\n",
       "      <td>113.405682</td>\n",
       "      <td>0.921083</td>\n",
       "      <td>18.958333</td>\n",
       "      <td>0.299255</td>\n",
       "      <td>32.592686</td>\n",
       "      <td>...</td>\n",
       "      <td>14</td>\n",
       "      <td>6834</td>\n",
       "      <td>130</td>\n",
       "      <td>2019</td>\n",
       "      <td>Monday</td>\n",
       "      <td>9</td>\n",
       "      <td>9</td>\n",
       "      <td>3</td>\n",
       "      <td>7</td>\n",
       "      <td>60</td>\n",
       "    </tr>\n",
       "  </tbody>\n",
       "</table>\n",
       "<p>13665 rows × 23 columns</p>\n",
       "</div>"
      ],
      "text/plain": [
       "               ID       site       pm2_5        pm10    s2_pm2_5     s2_pm10  \\\n",
       "0     ID_0038MG0B  USEmbassy    6.819048    7.313810    6.794048    7.838333   \n",
       "1     ID_008ASVDD  USEmbassy   57.456047   67.883488   55.643488   70.646977   \n",
       "2     ID_009ACJQ9     Nakawa  170.009773  191.153636  165.308636  191.471591   \n",
       "3     ID_00IGMAQ2  USEmbassy   49.732821   61.512564    0.000000    0.000000   \n",
       "4     ID_00P76VAQ  USEmbassy   41.630455   51.044545   41.725000   51.141364   \n",
       "...           ...        ...         ...         ...         ...         ...   \n",
       "2728  ID_ZW5RSNUS   Makerere   43.508889   53.786667   42.747778   53.457778   \n",
       "2729  ID_ZWCI817N     Nakawa  101.348049  114.076098   99.469512  116.441220   \n",
       "2730  ID_ZX5858FJ   Makerere   47.248182   59.862727   46.526364   59.971818   \n",
       "2731  ID_ZY4XOL2H  USEmbassy  217.070465  264.880698  220.803488  249.663953   \n",
       "2732  ID_ZYTEVEBR  USEmbassy  103.224773  109.998409  104.679091  113.405682   \n",
       "\n",
       "      humidity       temp       lat       long  ...  landform_270m  \\\n",
       "0     0.807417  22.383333  0.299255  32.592686  ...             14   \n",
       "1     0.712417  25.350000  0.299255  32.592686  ...             14   \n",
       "2     0.907833  20.616667  0.331740  32.609510  ...            -11   \n",
       "3     0.949667  21.216667  0.299255  32.592686  ...             14   \n",
       "4     0.913833  18.908333  0.299255  32.592686  ...             14   \n",
       "...        ...        ...       ...        ...  ...            ...   \n",
       "2728  0.924833  22.358333  0.333501  32.568561  ...             28   \n",
       "2729  0.936333  20.500000  0.331740  32.609510  ...            -11   \n",
       "2730  0.857917  20.966667  0.333501  32.568561  ...             28   \n",
       "2731  0.716833  22.158333  0.299255  32.592686  ...             14   \n",
       "2732  0.921083  18.958333  0.299255  32.592686  ...             14   \n",
       "\n",
       "      population  dist_major_road  created_at_year  created_at_day  \\\n",
       "0           6834              130             2020        Thursday   \n",
       "1           6834              130             2020          Sunday   \n",
       "2           4780              500             2021        Saturday   \n",
       "3           6834              130             2019       Wednesday   \n",
       "4           6834              130             2019         Tuesday   \n",
       "...          ...              ...              ...             ...   \n",
       "2728        8518              475             2021        Thursday   \n",
       "2729        4780              500             2021        Thursday   \n",
       "2730        8518              475             2020        Saturday   \n",
       "2731        6834              130             2021          Monday   \n",
       "2732        6834              130             2019          Monday   \n",
       "\n",
       "      created_at_date  created_at_month created_at_quarter  created_at_hour  \\\n",
       "0                  23                 4                  2               17   \n",
       "1                  23                 2                  1               19   \n",
       "2                  23                 1                  1                4   \n",
       "3                   4                12                  4                9   \n",
       "4                   1                10                  4                1   \n",
       "...               ...               ...                ...              ...   \n",
       "2728               18                 2                  1                3   \n",
       "2729               21                 1                  1               23   \n",
       "2730               12                12                  4               21   \n",
       "2731                8                 2                  1                2   \n",
       "2732                9                 9                  3                7   \n",
       "\n",
       "      ref_vals  \n",
       "0           60  \n",
       "1           60  \n",
       "2           50  \n",
       "3           60  \n",
       "4           60  \n",
       "...        ...  \n",
       "2728        39  \n",
       "2729        50  \n",
       "2730        39  \n",
       "2731        60  \n",
       "2732        60  \n",
       "\n",
       "[13665 rows x 23 columns]"
      ]
     },
     "execution_count": 95,
     "metadata": {},
     "output_type": "execute_result"
    }
   ],
   "source": [
    "all_data"
   ]
  },
  {
   "cell_type": "code",
   "execution_count": 85,
   "metadata": {},
   "outputs": [
    {
     "data": {
      "text/plain": [
       "<matplotlib.axes._subplots.AxesSubplot at 0x2918bc0ca08>"
      ]
     },
     "execution_count": 85,
     "metadata": {},
     "output_type": "execute_result"
    },
    {
     "data": {
      "image/png": "[encoded data removed]",
      "text/plain": [
       "<Figure size 432x288 with 1 Axes>"
      ]
     },
     "metadata": {
      "needs_background": "light"
     },
     "output_type": "display_data"
    }
   ],
   "source": [
    "sns.distplot(Train[Train['site'] == 'Nakawa']['ref_pm2_5'])"
   ]
  },
  {
   "cell_type": "code",
   "execution_count": 51,
   "metadata": {},
   "outputs": [
    {
     "data": {
      "text/plain": [
       "USEmbassy    3006\n",
       "Makerere      788\n",
       "Nakawa        655\n",
       "Name: site, dtype: int64"
      ]
     },
     "execution_count": 51,
     "metadata": {},
     "output_type": "execute_result"
    }
   ],
   "source": [
    "Train[Train['ref_pm2_5'] > 50]['site'].value_counts()"
   ]
  },
  {
   "cell_type": "code",
   "execution_count": 53,
   "metadata": {},
   "outputs": [
    {
     "data": {
      "text/plain": [
       "2        149.7\n",
       "11        21.1\n",
       "13        20.4\n",
       "14        26.0\n",
       "21        70.2\n",
       "         ...  \n",
       "10906     24.3\n",
       "10914     27.5\n",
       "10915     19.9\n",
       "10920    110.8\n",
       "10926     25.6\n",
       "Name: ref_pm2_5, Length: 1717, dtype: float64"
      ]
     },
     "execution_count": 53,
     "metadata": {},
     "output_type": "execute_result"
    }
   ],
   "source": [
    "Train[Train['site'] == 'Nakawa']['ref_pm2_5']"
   ]
  },
  {
   "cell_type": "code",
   "execution_count": 9,
   "metadata": {},
   "outputs": [
    {
     "data": {
      "text/plain": [
       "<matplotlib.axes._subplots.AxesSubplot at 0x291869a9748>"
      ]
     },
     "execution_count": 9,
     "metadata": {},
     "output_type": "execute_result"
    },
    {
     "data": {
      "image/png": "[encoded data removed]",
      "text/plain": [
       "<Figure size 432x288 with 1 Axes>"
      ]
     },
     "metadata": {
      "needs_background": "light"
     },
     "output_type": "display_data"
    }
   ],
   "source": [
    "sns.kdeplot(Train['humidity'])"
   ]
  },
  {
   "cell_type": "code",
   "execution_count": 10,
   "metadata": {},
   "outputs": [
    {
     "data": {
      "text/plain": [
       "<matplotlib.axes._subplots.AxesSubplot at 0x2918764ca88>"
      ]
     },
     "execution_count": 10,
     "metadata": {},
     "output_type": "execute_result"
    },
    {
     "data": {
      "image/png": "[encoded data removed]",
      "text/plain": [
       "<Figure size 432x288 with 1 Axes>"
      ]
     },
     "metadata": {
      "needs_background": "light"
     },
     "output_type": "display_data"
    }
   ],
   "source": [
    "sns.kdeplot(Train['temp'])"
   ]
  },
  {
   "cell_type": "code",
   "execution_count": 11,
   "metadata": {},
   "outputs": [
    {
     "data": {
      "text/plain": [
       "<matplotlib.axes._subplots.AxesSubplot at 0x291876ec488>"
      ]
     },
     "execution_count": 11,
     "metadata": {},
     "output_type": "execute_result"
    },
    {
     "data": {
      "image/png": "[encoded data removed]",
      "text/plain": [
       "<Figure size 432x288 with 1 Axes>"
      ]
     },
     "metadata": {
      "needs_background": "light"
     },
     "output_type": "display_data"
    }
   ],
   "source": [
    "sns.countplot(Train.landform_270m)"
   ]
  },
  {
   "cell_type": "code",
   "execution_count": 12,
   "metadata": {},
   "outputs": [
    {
     "data": {
      "text/plain": [
       "<matplotlib.axes._subplots.AxesSubplot at 0x29187737748>"
      ]
     },
     "execution_count": 12,
     "metadata": {},
     "output_type": "execute_result"
    },
    {
     "data": {
      "image/png": "[encoded data removed]",
      "text/plain": [
       "<Figure size 432x288 with 1 Axes>"
      ]
     },
     "metadata": {
      "needs_background": "light"
     },
     "output_type": "display_data"
    }
   ],
   "source": [
    "sns.countplot(Train.landform_90m)"
   ]
  },
  {
   "cell_type": "code",
   "execution_count": 13,
   "metadata": {},
   "outputs": [
    {
     "data": {
      "text/plain": [
       "<matplotlib.axes._subplots.AxesSubplot at 0x2918779e048>"
      ]
     },
     "execution_count": 13,
     "metadata": {},
     "output_type": "execute_result"
    },
    {
     "data": {
      "image/png": "[encoded data removed]",
      "text/plain": [
       "<Figure size 432x288 with 1 Axes>"
      ]
     },
     "metadata": {
      "needs_background": "light"
     },
     "output_type": "display_data"
    }
   ],
   "source": [
    "sns.kdeplot(Train['ref_pm2_5'])"
   ]
  },
  {
   "cell_type": "code",
   "execution_count": 96,
   "metadata": {},
   "outputs": [],
   "source": [
    "data = pd.concat([Train,Test]).drop('ref_pm2_5', axis=1)"
   ]
  },
  {
   "cell_type": "code",
   "execution_count": 15,
   "metadata": {},
   "outputs": [
    {
     "data": {
      "text/plain": [
       "((13665, 17), (10932, 18), (2733, 17))"
      ]
     },
     "execution_count": 15,
     "metadata": {},
     "output_type": "execute_result"
    }
   ],
   "source": [
    "data.shape,Train.shape,Test.shape"
   ]
  },
  {
   "cell_type": "raw",
   "metadata": {},
   "source": [
    "def get_mean(arr_preds):\n",
    "    mean_arr =[]\n",
    "    \n",
    "    for idx in range(arr_preds.shape[1]):\n",
    "        mean_arr.append(np.mean(arr_preds[:,idx]))\n",
    "    return np.array(mean_arr) \n",
    "    "
   ]
  },
  {
   "cell_type": "code",
   "execution_count": 16,
   "metadata": {},
   "outputs": [],
   "source": [
    "ntrain = Train.shape[0]\n",
    "ntest = Test.shape[0]"
   ]
  },
  {
   "cell_type": "code",
   "execution_count": 97,
   "metadata": {},
   "outputs": [
    {
     "data": {
      "text/plain": [
       "Index(['ID', 'created_at', 'site', 'pm2_5', 'pm10', 's2_pm2_5', 's2_pm10',\n",
       "       'humidity', 'temp', 'lat', 'long', 'altitude', 'greenness',\n",
       "       'landform_90m', 'landform_270m', 'population', 'dist_major_road'],\n",
       "      dtype='object')"
      ]
     },
     "execution_count": 97,
     "metadata": {},
     "output_type": "execute_result"
    }
   ],
   "source": [
    "data.columns"
   ]
  },
  {
   "cell_type": "code",
   "execution_count": 18,
   "metadata": {},
   "outputs": [],
   "source": [
    "cat_feats = ['landform_270m', 'landform_90m', 'site']\n",
    "num_feats = ['pm2_5', 'pm10', 's2_pm2_5', 's2_pm10','humidity', 'temp', 'lat', 'long', 'altitude', \n",
    "             'greenness','population', 'dist_major_road']"
   ]
  },
  {
   "cell_type": "code",
   "execution_count": 19,
   "metadata": {},
   "outputs": [
    {
     "data": {
      "text/plain": [
       "<matplotlib.axes._subplots.AxesSubplot at 0x2918782e688>"
      ]
     },
     "execution_count": 19,
     "metadata": {},
     "output_type": "execute_result"
    },
    {
     "data": {
      "image/png": "[encoded data removed]",
      "text/plain": [
       "<Figure size 432x288 with 1 Axes>"
      ]
     },
     "metadata": {
      "needs_background": "light"
     },
     "output_type": "display_data"
    }
   ],
   "source": [
    "sns.countplot(data['site'])"
   ]
  },
  {
   "cell_type": "code",
   "execution_count": 20,
   "metadata": {},
   "outputs": [],
   "source": [
    "time = pd.to_datetime(data.created_at.iloc[1])"
   ]
  },
  {
   "cell_type": "code",
   "execution_count": 21,
   "metadata": {},
   "outputs": [
    {
     "data": {
      "text/plain": [
       "Timestamp('2020-02-23 19:00:00+0300', tz='pytz.FixedOffset(180)')"
      ]
     },
     "execution_count": 21,
     "metadata": {},
     "output_type": "execute_result"
    }
   ],
   "source": [
    "time"
   ]
  },
  {
   "cell_type": "code",
   "execution_count": 22,
   "metadata": {},
   "outputs": [
    {
     "data": {
      "text/plain": [
       "<matplotlib.axes._subplots.AxesSubplot at 0x29188858708>"
      ]
     },
     "execution_count": 22,
     "metadata": {},
     "output_type": "execute_result"
    },
    {
     "data": {
      "image/png": "[encoded data removed]",
      "text/plain": [
       "<Figure size 432x288 with 1 Axes>"
      ]
     },
     "metadata": {
      "needs_background": "light"
     },
     "output_type": "display_data"
    }
   ],
   "source": [
    "sns.countplot(data['landform_90m'])"
   ]
  },
  {
   "cell_type": "code",
   "execution_count": 98,
   "metadata": {},
   "outputs": [],
   "source": [
    "data['created_at'] = pd.to_datetime(data['created_at'])"
   ]
  },
  {
   "cell_type": "code",
   "execution_count": 99,
   "metadata": {},
   "outputs": [],
   "source": [
    "def extract_date_info(df,cols,):\n",
    "    X = df.copy()\n",
    "    for feat in cols:\n",
    "        X[f'{feat}_year'] = X[feat].dt.year\n",
    "        X[f'{feat}_day'] = X[feat].dt.day_name()\n",
    "        X[f'{feat}_date'] = X[feat].dt.day\n",
    "        X[f'{feat}_month'] = X[feat].dt.month\n",
    "        X[f'{feat}_quarter'] = X[feat].dt.quarter\n",
    "        X[f'{feat}_hour'] = X[feat].dt.hour\n",
    "        \n",
    "        #X[f'{feat}_is_month_end'] = X[feat].dt.is_month_end\n",
    "    X.drop(columns=cols,axis=1, inplace=True)\n",
    "    \n",
    "    return X"
   ]
  },
  {
   "cell_type": "code",
   "execution_count": 25,
   "metadata": {},
   "outputs": [],
   "source": [
    "all_data = extract_date_info(data,['created_at',])"
   ]
  },
  {
   "cell_type": "code",
   "execution_count": 101,
   "metadata": {},
   "outputs": [
    {
     "data": {
      "text/plain": [
       "0        Thursday\n",
       "1          Sunday\n",
       "2        Saturday\n",
       "3       Wednesday\n",
       "4         Tuesday\n",
       "          ...    \n",
       "2728     Thursday\n",
       "2729     Thursday\n",
       "2730     Saturday\n",
       "2731       Monday\n",
       "2732       Monday\n",
       "Name: created_at_day, Length: 13665, dtype: object"
      ]
     },
     "execution_count": 101,
     "metadata": {},
     "output_type": "execute_result"
    }
   ],
   "source": [
    "all_data['created_at_day']"
   ]
  },
  {
   "cell_type": "code",
   "execution_count": 27,
   "metadata": {},
   "outputs": [
    {
     "data": {
      "text/plain": [
       "Index(['ID', 'site', 'pm2_5', 'pm10', 's2_pm2_5', 's2_pm10', 'humidity',\n",
       "       'temp', 'lat', 'long', 'altitude', 'greenness', 'landform_90m',\n",
       "       'landform_270m', 'population', 'dist_major_road', 'created_at_year',\n",
       "       'created_at_day', 'created_at_date', 'created_at_month',\n",
       "       'created_at_quarter', 'created_at_hour'],\n",
       "      dtype='object')"
      ]
     },
     "execution_count": 27,
     "metadata": {},
     "output_type": "execute_result"
    }
   ],
   "source": [
    "all_data.columns"
   ]
  },
  {
   "cell_type": "code",
   "execution_count": 102,
   "metadata": {},
   "outputs": [],
   "source": [
    "cat_feats = ['landform_270m', 'landform_90m', 'site','created_at_day']\n",
    "num_feats = ['pm2_5', 'pm10', 's2_pm2_5', 's2_pm10','humidity', 'temp', 'lat', 'long', 'altitude', \n",
    "             'greenness','population', 'dist_major_road','created_at_date', 'created_at_month',\n",
    "       'created_at_quarter', 'created_at_hour']"
   ]
  },
  {
   "cell_type": "code",
   "execution_count": 103,
   "metadata": {},
   "outputs": [],
   "source": [
    "dummied_data = pd.get_dummies(all_data, columns=cat_feats)"
   ]
  },
  {
   "cell_type": "code",
   "execution_count": 104,
   "metadata": {},
   "outputs": [
    {
     "data": {
      "text/html": [
       "<div>\n",
       "<style scoped>\n",
       "    .dataframe tbody tr th:only-of-type {\n",
       "        vertical-align: middle;\n",
       "    }\n",
       "\n",
       "    .dataframe tbody tr th {\n",
       "        vertical-align: top;\n",
       "    }\n",
       "\n",
       "    .dataframe thead th {\n",
       "        text-align: right;\n",
       "    }\n",
       "</style>\n",
       "<table border=\"1\" class=\"dataframe\">\n",
       "  <thead>\n",
       "    <tr style=\"text-align: right;\">\n",
       "      <th></th>\n",
       "      <th>ID</th>\n",
       "      <th>pm2_5</th>\n",
       "      <th>pm10</th>\n",
       "      <th>s2_pm2_5</th>\n",
       "      <th>s2_pm10</th>\n",
       "      <th>humidity</th>\n",
       "      <th>temp</th>\n",
       "      <th>lat</th>\n",
       "      <th>long</th>\n",
       "      <th>altitude</th>\n",
       "      <th>...</th>\n",
       "      <th>site_Makerere</th>\n",
       "      <th>site_Nakawa</th>\n",
       "      <th>site_USEmbassy</th>\n",
       "      <th>created_at_day_Friday</th>\n",
       "      <th>created_at_day_Monday</th>\n",
       "      <th>created_at_day_Saturday</th>\n",
       "      <th>created_at_day_Sunday</th>\n",
       "      <th>created_at_day_Thursday</th>\n",
       "      <th>created_at_day_Tuesday</th>\n",
       "      <th>created_at_day_Wednesday</th>\n",
       "    </tr>\n",
       "  </thead>\n",
       "  <tbody>\n",
       "    <tr>\n",
       "      <th>0</th>\n",
       "      <td>ID_0038MG0B</td>\n",
       "      <td>6.819048</td>\n",
       "      <td>7.313810</td>\n",
       "      <td>6.794048</td>\n",
       "      <td>7.838333</td>\n",
       "      <td>0.807417</td>\n",
       "      <td>22.383333</td>\n",
       "      <td>0.299255</td>\n",
       "      <td>32.592686</td>\n",
       "      <td>1199</td>\n",
       "      <td>...</td>\n",
       "      <td>0</td>\n",
       "      <td>0</td>\n",
       "      <td>1</td>\n",
       "      <td>0</td>\n",
       "      <td>0</td>\n",
       "      <td>0</td>\n",
       "      <td>0</td>\n",
       "      <td>1</td>\n",
       "      <td>0</td>\n",
       "      <td>0</td>\n",
       "    </tr>\n",
       "    <tr>\n",
       "      <th>1</th>\n",
       "      <td>ID_008ASVDD</td>\n",
       "      <td>57.456047</td>\n",
       "      <td>67.883488</td>\n",
       "      <td>55.643488</td>\n",
       "      <td>70.646977</td>\n",
       "      <td>0.712417</td>\n",
       "      <td>25.350000</td>\n",
       "      <td>0.299255</td>\n",
       "      <td>32.592686</td>\n",
       "      <td>1199</td>\n",
       "      <td>...</td>\n",
       "      <td>0</td>\n",
       "      <td>0</td>\n",
       "      <td>1</td>\n",
       "      <td>0</td>\n",
       "      <td>0</td>\n",
       "      <td>0</td>\n",
       "      <td>1</td>\n",
       "      <td>0</td>\n",
       "      <td>0</td>\n",
       "      <td>0</td>\n",
       "    </tr>\n",
       "    <tr>\n",
       "      <th>2</th>\n",
       "      <td>ID_009ACJQ9</td>\n",
       "      <td>170.009773</td>\n",
       "      <td>191.153636</td>\n",
       "      <td>165.308636</td>\n",
       "      <td>191.471591</td>\n",
       "      <td>0.907833</td>\n",
       "      <td>20.616667</td>\n",
       "      <td>0.331740</td>\n",
       "      <td>32.609510</td>\n",
       "      <td>1191</td>\n",
       "      <td>...</td>\n",
       "      <td>0</td>\n",
       "      <td>1</td>\n",
       "      <td>0</td>\n",
       "      <td>0</td>\n",
       "      <td>0</td>\n",
       "      <td>1</td>\n",
       "      <td>0</td>\n",
       "      <td>0</td>\n",
       "      <td>0</td>\n",
       "      <td>0</td>\n",
       "    </tr>\n",
       "    <tr>\n",
       "      <th>3</th>\n",
       "      <td>ID_00IGMAQ2</td>\n",
       "      <td>49.732821</td>\n",
       "      <td>61.512564</td>\n",
       "      <td>0.000000</td>\n",
       "      <td>0.000000</td>\n",
       "      <td>0.949667</td>\n",
       "      <td>21.216667</td>\n",
       "      <td>0.299255</td>\n",
       "      <td>32.592686</td>\n",
       "      <td>1199</td>\n",
       "      <td>...</td>\n",
       "      <td>0</td>\n",
       "      <td>0</td>\n",
       "      <td>1</td>\n",
       "      <td>0</td>\n",
       "      <td>0</td>\n",
       "      <td>0</td>\n",
       "      <td>0</td>\n",
       "      <td>0</td>\n",
       "      <td>0</td>\n",
       "      <td>1</td>\n",
       "    </tr>\n",
       "    <tr>\n",
       "      <th>4</th>\n",
       "      <td>ID_00P76VAQ</td>\n",
       "      <td>41.630455</td>\n",
       "      <td>51.044545</td>\n",
       "      <td>41.725000</td>\n",
       "      <td>51.141364</td>\n",
       "      <td>0.913833</td>\n",
       "      <td>18.908333</td>\n",
       "      <td>0.299255</td>\n",
       "      <td>32.592686</td>\n",
       "      <td>1199</td>\n",
       "      <td>...</td>\n",
       "      <td>0</td>\n",
       "      <td>0</td>\n",
       "      <td>1</td>\n",
       "      <td>0</td>\n",
       "      <td>0</td>\n",
       "      <td>0</td>\n",
       "      <td>0</td>\n",
       "      <td>0</td>\n",
       "      <td>1</td>\n",
       "      <td>0</td>\n",
       "    </tr>\n",
       "  </tbody>\n",
       "</table>\n",
       "<p>5 rows × 34 columns</p>\n",
       "</div>"
      ],
      "text/plain": [
       "            ID       pm2_5        pm10    s2_pm2_5     s2_pm10  humidity  \\\n",
       "0  ID_0038MG0B    6.819048    7.313810    6.794048    7.838333  0.807417   \n",
       "1  ID_008ASVDD   57.456047   67.883488   55.643488   70.646977  0.712417   \n",
       "2  ID_009ACJQ9  170.009773  191.153636  165.308636  191.471591  0.907833   \n",
       "3  ID_00IGMAQ2   49.732821   61.512564    0.000000    0.000000  0.949667   \n",
       "4  ID_00P76VAQ   41.630455   51.044545   41.725000   51.141364  0.913833   \n",
       "\n",
       "        temp       lat       long  altitude  ...  site_Makerere  site_Nakawa  \\\n",
       "0  22.383333  0.299255  32.592686      1199  ...              0            0   \n",
       "1  25.350000  0.299255  32.592686      1199  ...              0            0   \n",
       "2  20.616667  0.331740  32.609510      1191  ...              0            1   \n",
       "3  21.216667  0.299255  32.592686      1199  ...              0            0   \n",
       "4  18.908333  0.299255  32.592686      1199  ...              0            0   \n",
       "\n",
       "   site_USEmbassy  created_at_day_Friday  created_at_day_Monday  \\\n",
       "0               1                      0                      0   \n",
       "1               1                      0                      0   \n",
       "2               0                      0                      0   \n",
       "3               1                      0                      0   \n",
       "4               1                      0                      0   \n",
       "\n",
       "   created_at_day_Saturday  created_at_day_Sunday  created_at_day_Thursday  \\\n",
       "0                        0                      0                        1   \n",
       "1                        0                      1                        0   \n",
       "2                        1                      0                        0   \n",
       "3                        0                      0                        0   \n",
       "4                        0                      0                        0   \n",
       "\n",
       "   created_at_day_Tuesday  created_at_day_Wednesday  \n",
       "0                       0                         0  \n",
       "1                       0                         0  \n",
       "2                       0                         0  \n",
       "3                       0                         1  \n",
       "4                       1                         0  \n",
       "\n",
       "[5 rows x 34 columns]"
      ]
     },
     "execution_count": 104,
     "metadata": {},
     "output_type": "execute_result"
    }
   ],
   "source": [
    "dummied_data.head()"
   ]
  },
  {
   "cell_type": "code",
   "execution_count": null,
   "metadata": {},
   "outputs": [],
   "source": []
  },
  {
   "cell_type": "code",
   "execution_count": 105,
   "metadata": {},
   "outputs": [],
   "source": [
    "def Train_Evaluate(models,train_data,target, val_metric=rmse, test_data=None,params=None):\n",
    "    \n",
    "    train_score_sheet = {}\n",
    "    val_score_sheet = {}\n",
    "    named_models = {}\n",
    "    names = []\n",
    "    preds_val = {}\n",
    "    predictions = {}\n",
    "    idx = 0\n",
    "    \n",
    "        \n",
    "    for name, model in models.items():\n",
    "        named_models[name] = model\n",
    "        \n",
    "        if params != None:\n",
    "            if name in params.keys():\n",
    "                pass\n",
    "        \n",
    "        print('====={}===============Training: {}=========================='.format(idx+1,name))\n",
    "        if type(model) == type(lightgbm.LGBMRegressor()):\n",
    "            predictions[name], preds_val[name],train_score_sheet[name], val_score_sheet[name], named = LGBMTrain(model,train_data,target,test_data,name)\n",
    "            names.append(named)\n",
    "        \n",
    "        elif type(model) == type(xgb.XGBRegressor()):\n",
    "            predictions[name],preds_val[name],train_score_sheet[name], val_score_sheet[name], named = XGBTrain(model,train_data,target, test_data, name)\n",
    "        \n",
    "        elif type(model) == type(catboost.CatBoostRegressor()):\n",
    "            \n",
    "            predictions[name],preds_val[name],train_score_sheet[name], val_score_sheet[name], named  = CatBoostTrain(model,train_data,target,test_data, name)\n",
    "            \n",
    "        else:\n",
    "            \n",
    "            mean_train_scores = []\n",
    "            mean_val_scores = []\n",
    "            val_pred = np.zeros(train_data.shape[0])\n",
    "            test_pred = np.zeros((skf.n_splits,test_data.shape[0]))\n",
    "            impute = SimpleImputer(strategy = 'mean')\n",
    "            train_set = pd.DataFrame(impute.fit_transform(train_data), columns=train_data.columns)\n",
    "            test_set =  pd.DataFrame(impute.transform(test_data), columns=test_data.columns)\n",
    "            \n",
    "            for index, (train_index, val_index) in enumerate(skf.split(train_set,target)):\n",
    "\n",
    "                print('\\n==========================>**Fold {}**<================================\\n\\n'.format(index+1))\n",
    "                x_train , x_test = train_set.iloc[train_index], train_set.iloc[val_index]\n",
    "                y_train, y_test = target.iloc[train_index], target.iloc[val_index]\n",
    "\n",
    "                model.fit(x_train,y_train)\n",
    "\n",
    "                train_predict = model.predict(x_train)\n",
    "                preds = model.predict(x_test)\n",
    "                val_pred[val_index] = preds\n",
    "                test_pred[index] = model.predict(test_set)\n",
    "\n",
    "                mean_train_scores.append(val_metric(y_train,train_predict))\n",
    "                mean_val_scores.append(val_metric(y_test,preds))\n",
    "                print('\\nValidation Score :::> ', val_metric(y_test,preds))\n",
    "                print('\\nTraining Score   :::> ', val_metric(y_train, train_predict))\n",
    "            test_predictions = np.mean(test_pred.T, axis=1)\n",
    "            predictions[name] = test_predictions\n",
    "            preds_val[name] = val_pred[:]\n",
    "            train_score_sheet[name] = np.mean(mean_train_scores)\n",
    "            val_score_sheet[name] = np.mean(mean_val_scores)\n",
    "            print('\\nAverage Training Score   ::>', np.mean(mean_train_scores))\n",
    "            print('\\nAverage Validation Score ::>', np.mean(mean_val_scores))            \n",
    "            \n",
    "                      \n",
    "        idx+=1\n",
    "            \n",
    "    return train_score_sheet, val_score_sheet, named_models,preds_val, predictions"
   ]
  },
  {
   "cell_type": "code",
   "execution_count": 106,
   "metadata": {},
   "outputs": [],
   "source": [
    "def LGBMTrain(model,train_data,target,test_data, name):\n",
    "    mean_train_scores = []\n",
    "    mean_val_scores = []\n",
    "    val_pred = np.zeros(train_data.shape[0])\n",
    "    test_pred = np.zeros((skf.n_splits,test_data.shape[0]))\n",
    "    for index, (train_index, val_index) in enumerate(skf.split(train_data,target)):\n",
    "\n",
    "        print('\\n==========================>**Fold {}**<================================\\n\\n'.format(index+1))\n",
    "        x_train , x_test = train_data.iloc[train_index], train_data.iloc[val_index]\n",
    "        y_train, y_test = target.iloc[train_index], target.iloc[val_index]\n",
    "\n",
    "        model.fit(x_train,y_train, eval_set=(x_test,y_test), eval_metric = 'auc', verbose= 50)\n",
    "\n",
    "        train_predict = model.predict(x_train, num_iterations=model.best_iteration_)\n",
    "        lgb_preds = model.predict(x_test, num_iterations = model.best_iteration_)\n",
    "        val_pred[val_index] = lgb_preds\n",
    "        test_pred [index] = model.predict(test_data, num_iterations = model.best_iteration_)\n",
    "\n",
    "        mean_train_scores.append(rmse(y_train,train_predict))\n",
    "        mean_val_scores.append(rmse(y_test,lgb_preds))\n",
    "        print('\\nValidation Score :::> ', rmse(y_test,lgb_preds))\n",
    "        print('\\nTraining Score   :::> ', rmse(y_train, train_predict))\n",
    "\n",
    "\n",
    "    print('\\nAverage Training Score   ::>', np.mean(mean_train_scores))\n",
    "    print('\\nAverage Validation Score ::>', np.mean(mean_val_scores))\n",
    "    test_predictions = np.mean(test_pred.T, axis=1)\n",
    "    \n",
    "    return test_predictions,val_pred, np.mean(mean_train_scores), np.mean(mean_val_scores), name\n",
    "\n",
    "\n",
    "\n",
    "def XGBTrain(model,train_data,target,test_data, name):\n",
    "    mean_train_scores = []\n",
    "    mean_val_scores = []\n",
    "    val_pred = np.zeros(train_data.shape[0])\n",
    "    test_pred = np.zeros((skf.n_splits,test_data.shape[0]))\n",
    "    \n",
    "    for index, (train_index, val_index) in enumerate(skf.split(train_data,target)):\n",
    "\n",
    "        print('\\n==========================>**Fold {}**<================================\\n\\n'.format(index+1))\n",
    "        x_train , x_test = train_data.iloc[train_index], train_data.iloc[val_index]\n",
    "        y_train, y_test = target.iloc[train_index], target.iloc[val_index]\n",
    "\n",
    "        model.fit(x_train,y_train, eval_set=[(x_test,y_test)], eval_metric = 'rmse', verbose= 50, early_stopping_rounds=200)\n",
    "\n",
    "        train_predict = model.predict(x_train, ntree_limit = model.get_booster().best_ntree_limit)\n",
    "        xgb_preds = model.predict(x_test, ntree_limit = model.get_booster().best_ntree_limit)\n",
    "        val_pred[val_index] = xgb_preds\n",
    "        test_pred [index] = model.predict(test_data, ntree_limit = model.get_booster().best_ntree_limit)\n",
    "\n",
    "        mean_train_scores.append(rmse(y_train,train_predict))\n",
    "        mean_val_scores.append(rmse(y_test,xgb_preds))\n",
    "        print('\\nValidation Score :::> ', rmse(y_test,xgb_preds))\n",
    "        print('\\nTraining Score   :::> ', rmse(y_train, train_predict))\n",
    "\n",
    "\n",
    "    print('\\nAverage Training Score   ::>', np.mean(mean_train_scores))\n",
    "    print('\\nAverage Validation Score ::>', np.mean(mean_val_scores))\n",
    "    test_predictions =  np.mean(test_pred.T, axis=1)\n",
    "    \n",
    "    return test_predictions,val_pred, np.mean(mean_train_scores), np.mean(mean_val_scores), name\n",
    "\n",
    "\n",
    "def CatBoostTrain(model,train_data,target,test_data, name):\n",
    "    mean_train_scores = []\n",
    "    mean_val_scores = []\n",
    "    val_pred = np.zeros(train_data.shape[0])\n",
    "    test_pred = np.zeros((skf.n_splits,test_data.shape[0]))\n",
    "    for index, (train_index, val_index) in enumerate(skf.split(train_data,target)):\n",
    "\n",
    "        print('\\n==========================>**Fold {}**<================================\\n\\n'.format(index+1))\n",
    "        print('Now using catboos')\n",
    "        x_train , x_test = train_data.iloc[train_index], train_data.iloc[val_index]\n",
    "        y_train, y_test = target.iloc[train_index], target.iloc[val_index]\n",
    "\n",
    "        model.fit(x_train,y_train, eval_set=(x_test,y_test), verbose= 50)\n",
    "\n",
    "        train_predict = model.predict_proba(x_train)[:,1]\n",
    "        cat_preds = model.predict_proba(x_test)[:,1]\n",
    "        val_pred[val_index] = cat_preds\n",
    "        test_pred += model.predict_proba(test_data)[:,1]\n",
    "\n",
    "        mean_train_scores.append(rmse(y_train,train_predict))\n",
    "        mean_val_scores.append(rmse(y_test,cat_preds))\n",
    "        print('\\nValidation Score :::> ', rmse(y_test,cat_preds))\n",
    "        print('\\nTraining Score   :::> ', rmse(y_train, train_predict))\n",
    "\n",
    "\n",
    "    print('\\nAverage Training Score   ::>', np.mean(mean_train_scores))\n",
    "    print('\\nAverage Validation Score ::>', np.mean(mean_val_scores))\n",
    "    \n",
    "    \n",
    "    return  np.mean(test_pred.T, axis=1),val_pred, np.mean(mean_train_scores), np.mean(mean_val_scores), name\n"
   ]
  },
  {
   "cell_type": "code",
   "execution_count": 88,
   "metadata": {},
   "outputs": [
    {
     "name": "stdout",
     "output_type": "stream",
     "text": [
      "<class 'pandas.core.frame.DataFrame'>\n",
      "RangeIndex: 10932 entries, 0 to 10931\n",
      "Data columns (total 18 columns):\n",
      " #   Column           Non-Null Count  Dtype  \n",
      "---  ------           --------------  -----  \n",
      " 0   ID               10932 non-null  object \n",
      " 1   created_at       10932 non-null  object \n",
      " 2   site             10932 non-null  object \n",
      " 3   pm2_5            10932 non-null  float64\n",
      " 4   pm10             10932 non-null  float64\n",
      " 5   s2_pm2_5         10932 non-null  float64\n",
      " 6   s2_pm10          10932 non-null  float64\n",
      " 7   humidity         10926 non-null  float64\n",
      " 8   temp             10915 non-null  float64\n",
      " 9   lat              10932 non-null  float64\n",
      " 10  long             10932 non-null  float64\n",
      " 11  altitude         10932 non-null  int64  \n",
      " 12  greenness        10932 non-null  int64  \n",
      " 13  landform_90m     10932 non-null  int64  \n",
      " 14  landform_270m    10932 non-null  int64  \n",
      " 15  population       10932 non-null  int64  \n",
      " 16  dist_major_road  10932 non-null  int64  \n",
      " 17  ref_pm2_5        10932 non-null  float64\n",
      "dtypes: float64(9), int64(6), object(3)\n",
      "memory usage: 1.5+ MB\n"
     ]
    }
   ],
   "source": [
    "Train.info()"
   ]
  },
  {
   "cell_type": "code",
   "execution_count": 107,
   "metadata": {},
   "outputs": [],
   "source": [
    "Target = Train['ref_pm2_5']\n",
    "train = dummied_data[:ntrain].drop(['ID'], axis=1)\n",
    "test = dummied_data[ntrain:].drop(['ID'], axis=1)"
   ]
  },
  {
   "cell_type": "code",
   "execution_count": 108,
   "metadata": {},
   "outputs": [
    {
     "data": {
      "text/plain": [
       "{True}"
      ]
     },
     "execution_count": 108,
     "metadata": {},
     "output_type": "execute_result"
    }
   ],
   "source": [
    "set(train.columns == test.columns)"
   ]
  },
  {
   "cell_type": "code",
   "execution_count": 109,
   "metadata": {},
   "outputs": [],
   "source": [
    "from sklearn.model_selection import KFold"
   ]
  },
  {
   "cell_type": "code",
   "execution_count": 110,
   "metadata": {},
   "outputs": [],
   "source": [
    "skf =KFold(n_splits=10,random_state=42 )"
   ]
  },
  {
   "cell_type": "code",
   "execution_count": 111,
   "metadata": {},
   "outputs": [
    {
     "name": "stdout",
     "output_type": "stream",
     "text": [
      "=====1===============Training: LGBM==========================\n",
      "\n",
      "==========================>**Fold 1**<================================\n",
      "\n",
      "\n",
      "[50]\tvalid_0's auc: 1\tvalid_0's l2: 141.593\n",
      "[100]\tvalid_0's auc: 1\tvalid_0's l2: 129.197\n",
      "\n",
      "Validation Score :::>  11.366507324488236\n",
      "\n",
      "Training Score   :::>  9.739914794008738\n",
      "\n",
      "==========================>**Fold 2**<================================\n",
      "\n",
      "\n",
      "[50]\tvalid_0's auc: 1\tvalid_0's l2: 185.227\n",
      "[100]\tvalid_0's auc: 1\tvalid_0's l2: 166.399\n",
      "\n",
      "Validation Score :::>  12.8995632393316\n",
      "\n",
      "Training Score   :::>  9.63927741526281\n",
      "\n",
      "==========================>**Fold 3**<================================\n",
      "\n",
      "\n",
      "[50]\tvalid_0's auc: 1\tvalid_0's l2: 257.331\n",
      "[100]\tvalid_0's auc: 1\tvalid_0's l2: 243.328\n",
      "\n",
      "Validation Score :::>  15.598968246744933\n",
      "\n",
      "Training Score   :::>  9.356572055902912\n",
      "\n",
      "==========================>**Fold 4**<================================\n",
      "\n",
      "\n",
      "[50]\tvalid_0's auc: 1\tvalid_0's l2: 239.416\n",
      "[100]\tvalid_0's auc: 1\tvalid_0's l2: 220.585\n",
      "\n",
      "Validation Score :::>  14.852115254131053\n",
      "\n",
      "Training Score   :::>  9.305174187445012\n",
      "\n",
      "==========================>**Fold 5**<================================\n",
      "\n",
      "\n",
      "[50]\tvalid_0's auc: 1\tvalid_0's l2: 112.407\n",
      "[100]\tvalid_0's auc: 1\tvalid_0's l2: 104.541\n",
      "\n",
      "Validation Score :::>  10.224548199719829\n",
      "\n",
      "Training Score   :::>  9.813905289813597\n",
      "\n",
      "==========================>**Fold 6**<================================\n",
      "\n",
      "\n",
      "[50]\tvalid_0's auc: 1\tvalid_0's l2: 175.815\n",
      "[100]\tvalid_0's auc: 1\tvalid_0's l2: 160.022\n",
      "\n",
      "Validation Score :::>  12.649963284500592\n",
      "\n",
      "Training Score   :::>  9.567478170274155\n",
      "\n",
      "==========================>**Fold 7**<================================\n",
      "\n",
      "\n",
      "[50]\tvalid_0's auc: 1\tvalid_0's l2: 106.565\n",
      "[100]\tvalid_0's auc: 1\tvalid_0's l2: 93.5446\n",
      "\n",
      "Validation Score :::>  9.671846619130267\n",
      "\n",
      "Training Score   :::>  9.903189992954042\n",
      "\n",
      "==========================>**Fold 8**<================================\n",
      "\n",
      "\n",
      "[50]\tvalid_0's auc: 1\tvalid_0's l2: 113.447\n",
      "[100]\tvalid_0's auc: 1\tvalid_0's l2: 103.375\n",
      "\n",
      "Validation Score :::>  10.167329107722859\n",
      "\n",
      "Training Score   :::>  9.841689416018536\n",
      "\n",
      "==========================>**Fold 9**<================================\n",
      "\n",
      "\n",
      "[50]\tvalid_0's auc: 1\tvalid_0's l2: 136.723\n",
      "[100]\tvalid_0's auc: 1\tvalid_0's l2: 125.632\n",
      "\n",
      "Validation Score :::>  11.208588230634026\n",
      "\n",
      "Training Score   :::>  9.626419542840956\n",
      "\n",
      "==========================>**Fold 10**<================================\n",
      "\n",
      "\n",
      "[50]\tvalid_0's auc: 1\tvalid_0's l2: 265.907\n",
      "[100]\tvalid_0's auc: 1\tvalid_0's l2: 253.609\n",
      "\n",
      "Validation Score :::>  15.925104104241687\n",
      "\n",
      "Training Score   :::>  9.213932602693273\n",
      "\n",
      "Average Training Score   ::> 9.600755346721403\n",
      "\n",
      "Average Validation Score ::> 12.456453361064508\n"
     ]
    }
   ],
   "source": [
    "models = {'XGB': xgb.XGBRegressor(random_state=45, n_estimators=500),\n",
    "         'LGBM': lightgbm.LGBMRegressor(random_state=45),}\n",
    "\n",
    "model = {'LGBM': lightgbm.LGBMRegressor(random_state=45),}\n",
    "train_scores, val_scores, named_models,preds_val, preds = Train_Evaluate(model,train, Target,\n",
    "                                                              test_data=test)"
   ]
  },
  {
   "cell_type": "code",
   "execution_count": 112,
   "metadata": {},
   "outputs": [
    {
     "data": {
      "text/plain": [
       "({'LGBM': 12.456453361064508}, {'LGBM': 9.600755346721403})"
      ]
     },
     "execution_count": 112,
     "metadata": {},
     "output_type": "execute_result"
    }
   ],
   "source": [
    "val_scores, train_scores"
   ]
  },
  {
   "cell_type": "code",
   "execution_count": 90,
   "metadata": {},
   "outputs": [],
   "source": [
    "arr= []\n",
    "for val in preds.values():\n",
    "    arr.append(val[:])"
   ]
  },
  {
   "cell_type": "code",
   "execution_count": 92,
   "metadata": {},
   "outputs": [
    {
     "data": {
      "text/plain": [
       "[array([ 36.68832016,  43.71301117,  45.57909012, ...,  35.24910583,\n",
       "        245.85469971, 100.16177292]),\n",
       " array([ 36.48663279,  44.68613865,  44.89071536, ...,  35.51820736,\n",
       "        230.36819117,  99.87752045])]"
      ]
     },
     "execution_count": 92,
     "metadata": {},
     "output_type": "execute_result"
    }
   ],
   "source": [
    "np.array(arr)"
   ]
  },
  {
   "cell_type": "code",
   "execution_count": 114,
   "metadata": {},
   "outputs": [],
   "source": [
    "submit = Test[['ID']]\n",
    "submit['target'] = preds['LGBM']\n",
    "\n",
    "submit.to_csv('Submission_LGBM.csv', index=False)"
   ]
  },
  {
   "cell_type": "code",
   "execution_count": null,
   "metadata": {},
   "outputs": [],
   "source": []
  }
 ],
 "metadata": {
  "kernelspec": {
   "display_name": "Python 3",
   "language": "python",
   "name": "python3"
  },
  "language_info": {
   "codemirror_mode": {
    "name": "ipython",
    "version": 3
   },
   "file_extension": ".py",
   "mimetype": "text/x-python",
   "name": "python",
   "nbconvert_exporter": "python",
   "pygments_lexer": "ipython3",
   "version": "3.7.6"
  }
 },
 "nbformat": 4,
 "nbformat_minor": 4
}
